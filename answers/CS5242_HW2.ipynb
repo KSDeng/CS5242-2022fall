{
  "nbformat": 4,
  "nbformat_minor": 0,
  "metadata": {
    "colab": {
      "provenance": [],
      "collapsed_sections": []
    },
    "kernelspec": {
      "name": "python3",
      "display_name": "Python 3"
    },
    "language_info": {
      "name": "python"
    }
  },
  "cells": [
    {
      "cell_type": "markdown",
      "source": [
        "# Welcome to CS 5242 **Homework 2**\n",
        "\n",
        "ASSIGNMENT DEADLINE ⏰ : **05 Sept 2022** \n",
        "\n",
        "In this assignment, the task is to implement Multi-Layer Perceptron (MLP) for handwritten digit classification from scratch.\n",
        "\n",
        "Colab is a hosted Jupyter notebook service that requires no setup to use, while providing access free of charge to computing resources including GPUs. In this semester, we will use Colab to run our experiments.\n",
        "\n",
        "> In this assignment, there is no need to use GPU.\n",
        "\n",
        "### **Grades Policy**\n",
        "\n",
        "We have 10 points for this homework. 15% off per day late, 0 scores if you submit it 7 days after the deadline.\n",
        "\n",
        "### **Cautions**\n",
        "\n",
        "**DO NOT** use external libraries like PyTorch or TensorFlow in your implementation.\n",
        "\n",
        "**DO NOT** copy the code from the internet, e.g. GitHub.\n",
        "\n",
        "---\n",
        "\n",
        "### **Contact**\n",
        "\n",
        "Please feel free to contact us if you have any question about this homework or need any further information.\n",
        "\n",
        "Slack (Recommend): Shenggan Cheng\n",
        "\n",
        "TA Email: shenggan@comp.nus.edu.sg\n",
        "\n",
        "> If you have not join the slack group, you can click [here](https://join.slack.com/t/cs5242ay20222-oiw1784/shared_invite/zt-1eiv24k1t-0J9EI7vz3uQmAHa68qU0aw)"
      ],
      "metadata": {
        "id": "GXMX8yuAyl55"
      }
    },
    {
      "cell_type": "markdown",
      "source": [
        "## Setup\n",
        "\n",
        "Start by running the cell below to set up all required software."
      ],
      "metadata": {
        "id": "oLeZHcOVBp4U"
      }
    },
    {
      "cell_type": "code",
      "source": [
        "!pip install numpy matplotlib"
      ],
      "metadata": {
        "colab": {
          "base_uri": "https://localhost:8080/"
        },
        "id": "HIgu_q2HBg-E",
        "outputId": "4e8739de-b351-4ad7-a406-9706c0016bc9"
      },
      "execution_count": 1,
      "outputs": [
        {
          "output_type": "stream",
          "name": "stdout",
          "text": [
            "Looking in indexes: https://pypi.org/simple, https://us-python.pkg.dev/colab-wheels/public/simple/\n",
            "Requirement already satisfied: numpy in /usr/local/lib/python3.7/dist-packages (1.21.6)\n",
            "Requirement already satisfied: matplotlib in /usr/local/lib/python3.7/dist-packages (3.2.2)\n",
            "Requirement already satisfied: python-dateutil>=2.1 in /usr/local/lib/python3.7/dist-packages (from matplotlib) (2.8.2)\n",
            "Requirement already satisfied: kiwisolver>=1.0.1 in /usr/local/lib/python3.7/dist-packages (from matplotlib) (1.4.4)\n",
            "Requirement already satisfied: cycler>=0.10 in /usr/local/lib/python3.7/dist-packages (from matplotlib) (0.11.0)\n",
            "Requirement already satisfied: pyparsing!=2.0.4,!=2.1.2,!=2.1.6,>=2.0.1 in /usr/local/lib/python3.7/dist-packages (from matplotlib) (3.0.9)\n",
            "Requirement already satisfied: typing-extensions in /usr/local/lib/python3.7/dist-packages (from kiwisolver>=1.0.1->matplotlib) (4.1.1)\n",
            "Requirement already satisfied: six>=1.5 in /usr/local/lib/python3.7/dist-packages (from python-dateutil>=2.1->matplotlib) (1.15.0)\n"
          ]
        }
      ]
    },
    {
      "cell_type": "markdown",
      "source": [
        "Download and extract MNIST Dataset."
      ],
      "metadata": {
        "id": "bqkIbfgfE1oB"
      }
    },
    {
      "cell_type": "code",
      "source": [
        "!mkdir -p data \\\n",
        "    && wget -q https://raw.githubusercontent.com/Shenggan/cs5242_resource/main/homework2/mnist_data.tar.gz -O ./data/mnist_data.tar.gz \\\n",
        "    && tar xf data/mnist_data.tar.gz -C ./data \\\n",
        "    && rm -rf ./data/mnist_data.tar.gz \\\n",
        "    && ls -l ./data/"
      ],
      "metadata": {
        "colab": {
          "base_uri": "https://localhost:8080/"
        },
        "id": "hSoSnxC4EzzJ",
        "outputId": "159583c3-565f-415d-80a6-6f56a6f934a4"
      },
      "execution_count": 2,
      "outputs": [
        {
          "output_type": "stream",
          "name": "stdout",
          "text": [
            "total 124872\n",
            "-rw-r--r-- 1 1000 1000  18289443 Jul 15  2019 mnist_test.csv\n",
            "-rw-r--r-- 1 1000 1000 109575994 Jul 15  2019 mnist_train.csv\n"
          ]
        }
      ]
    },
    {
      "cell_type": "markdown",
      "source": [
        "Import the neccesary library."
      ],
      "metadata": {
        "id": "vtXcchT5H2PH"
      }
    },
    {
      "cell_type": "code",
      "source": [
        "import time\n",
        "\n",
        "import numpy as np\n",
        "import matplotlib.pyplot as plt"
      ],
      "metadata": {
        "id": "I2Yodsn4H6CB"
      },
      "execution_count": 3,
      "outputs": []
    },
    {
      "cell_type": "markdown",
      "source": [
        "Everything is ready, you can move on and ***Good Luck !*** 😃"
      ],
      "metadata": {
        "id": "3yrZD7DDExF4"
      }
    },
    {
      "cell_type": "markdown",
      "source": [
        "## Explore MNIST Dataset\n",
        "\n",
        "One of the first steps when working with a new data set is exploring.Our data here is from the [MNIST dataset](http://yann.lecun.com/exdb/mnist/) of `28x28` pixel images of handwritten digits from `0-9`, which has an important place in the history of machine learning.\n",
        "\n",
        "Our data have been downloaded in the directory `data`: `mnist_train.csv` and `mnist_test.csv`, so the complete file path (from the main directory) are `data/mnist_train.csv` and `data/mnist_test.csv`. \n",
        "\n",
        "With that in mind, let's define a helper function `load_data` that we can use to quickly in our data.\n"
      ],
      "metadata": {
        "id": "7DwqHhL9CSxs"
      }
    },
    {
      "cell_type": "code",
      "source": [
        "def load_data(dir_name):\n",
        "    \"\"\"\n",
        "    Function for loading MNIST data stored in comma delimited files. Labels for \n",
        "    each image are the first entry in each row.\n",
        "\n",
        "    Parameters\n",
        "    ----------\n",
        "    dir_name : str\n",
        "         Path to where data is contained\n",
        "\n",
        "    Returns\n",
        "    -------\n",
        "    X : np.array, np.float32\n",
        "        A (N x 784) matrix of samples\n",
        "    Y : np.array, np.float32\n",
        "        A (N x 1) matrix of labels for each sample\n",
        "    \"\"\"\n",
        "\n",
        "    # Hint:\n",
        "    # 1) open the file and iterate through each line\n",
        "    # 2) in every line, split with ',' and you can get 785 elements\n",
        "    # 3) as the first number in each sample is the label (0-9), extract that from the rest and return\n",
        "\n",
        "    # Some numpy function you maybe need to use: `np.array`, `numpy.ndarray.astype`, `numpy.asarray`\n",
        "    # A kindly example, \n",
        "    # tmp_str = \"1,2,3,4\"\n",
        "    # array = np.array(line.split(',')).astype(np.float32)\n",
        "    # print(array)\n",
        "\n",
        "    # === Complete the code (1')\n",
        "    n_line = len(open(dir_name).readlines())\n",
        "    n_column = len(open(dir_name).readlines()[0].split(','))\n",
        "    X, Y = np.zeros([n_line, n_column - 1], dtype=np.float32), np.zeros([n_line, 1], dtype=np.float32)\n",
        "    count = 0\n",
        "    for row in open(dir_name):\n",
        "        nums = row.split(',')\n",
        "        training_data = np.array(nums[1:], dtype=np.float32)\n",
        "        label = np.float(nums[0])\n",
        "        X[count], Y[count] = training_data, label\n",
        "        count = count + 1\n",
        "    # === Complete the code\n",
        "    return X, Y\n",
        "  "
      ],
      "metadata": {
        "id": "DIHIpxpaHyOo"
      },
      "execution_count": 4,
      "outputs": []
    },
    {
      "cell_type": "code",
      "source": [
        "X_train, Y_train = load_data(\"./data/mnist_train.csv\")\n",
        "X_test, Y_test = load_data(\"./data/mnist_test.csv\")"
      ],
      "metadata": {
        "id": "m4HSdfdqIPeN",
        "colab": {
          "base_uri": "https://localhost:8080/"
        },
        "outputId": "49b3c929-6bda-4425-c507-bef186162d4d"
      },
      "execution_count": 5,
      "outputs": [
        {
          "output_type": "stream",
          "name": "stderr",
          "text": [
            "/usr/local/lib/python3.7/dist-packages/ipykernel_launcher.py:38: DeprecationWarning: `np.float` is a deprecated alias for the builtin `float`. To silence this warning, use `float` by itself. Doing this will not modify any behavior and is safe. If you specifically wanted the numpy scalar type, use `np.float64` here.\n",
            "Deprecated in NumPy 1.20; for more details and guidance: https://numpy.org/devdocs/release/1.20.0-notes.html#deprecations\n"
          ]
        }
      ]
    },
    {
      "cell_type": "markdown",
      "source": [
        "An easy to quickly get an idea for how your data looks is to examine the shape of the matrix it's stored using the `.shape` attribute of numpy arrays. We see that the shape of `X_train` is `60000 x 784`, which tells us there are `60000` samples (images) each with dimension `784`. Each sample, typically presented as a 28 x 28 image, is unrolled into a 1-dimensional vector 28 x 28 = 784 contained within each row of `X_train`."
      ],
      "metadata": {
        "id": "4aH3JKg3I2bZ"
      }
    },
    {
      "cell_type": "code",
      "source": [
        "print(f\"The shape of the training set is: {X_train.shape[0]} x {X_train.shape[1]}\")\n",
        "print(f\"The shape of the test set is: {X_test.shape[0]} x {X_test.shape[1]}\")"
      ],
      "metadata": {
        "colab": {
          "base_uri": "https://localhost:8080/"
        },
        "id": "FNCf79ShI6H9",
        "outputId": "32bf1e0f-9b67-4eae-c67c-cc5a3175c2d8"
      },
      "execution_count": 6,
      "outputs": [
        {
          "output_type": "stream",
          "name": "stdout",
          "text": [
            "The shape of the training set is: 60000 x 784\n",
            "The shape of the test set is: 10000 x 784\n"
          ]
        }
      ]
    },
    {
      "cell_type": "markdown",
      "source": [
        "Now lets take a look at how the samples are represented, we can do this by calling `Y_train[index]` and `X_train[index]` (here I choose `index=0` to look at the very first sample). We first notice `Y_train[0]=5.0`, meaning this entry is the digit `5`. We will confirm this shortly by visualizing some of these samples. We then notice each entry is an integer (cast into `np.float32` in our `load_data` function) ranging from `0-255`. This representation is common when working with images. The numerical entries are interpreted as pixel intensities typically shown in gray-scale ranging between `0` (black) and `255` (white). "
      ],
      "metadata": {
        "id": "bf5GmYOTzvVI"
      }
    },
    {
      "cell_type": "code",
      "source": [
        "index = 0\n",
        "print(f\"Y_train[{index}]: {Y_train[index]}\")\n",
        "print(f\"X_train[{index}] range from {min(X_train[index])} to {max(X_train[index])}.\")"
      ],
      "metadata": {
        "colab": {
          "base_uri": "https://localhost:8080/"
        },
        "id": "8ZWVJHTXzzp2",
        "outputId": "8b86611b-cf00-48ca-89f3-15ba479e72e6"
      },
      "execution_count": 7,
      "outputs": [
        {
          "output_type": "stream",
          "name": "stdout",
          "text": [
            "Y_train[0]: [5.]\n",
            "X_train[0] range from 0.0 to 255.0.\n"
          ]
        }
      ]
    },
    {
      "cell_type": "code",
      "source": [
        "# rescale data between 0 - 1.0\n",
        "def scale_data(X):\n",
        "    # === Complete the code (0.5')\n",
        "    X_scaled = X / X.max()\n",
        "    # === Complete the code\n",
        "    return X_scaled\n",
        "\n",
        "X_train = scale_data(X_train)\n",
        "X_test = scale_data(X_test)"
      ],
      "metadata": {
        "id": "b6KGKdP7JCmc"
      },
      "execution_count": 8,
      "outputs": []
    },
    {
      "cell_type": "code",
      "source": [
        "# one-hot encode train (y_train) and test (y_test) set labels\n",
        "# === Complete the code (0.5')\n",
        "n_values_y_train = int(np.max(Y_train) + 1)\n",
        "n_values_y_test = int(np.max(Y_test) + 1)\n",
        "\n",
        "labels_train = Y_train.flatten().astype(dtype=int)\n",
        "labels_test = Y_test.flatten().astype(dtype=int)\n",
        "y_train_onehot = np.eye(n_values_y_train)[labels_train]\n",
        "y_test_onehot = np.eye(n_values_y_test)[labels_test]\n",
        "# === Complete the code\n",
        "\n",
        "num_images = 4\n",
        "fig, axes = plt.subplots(1, num_images, figsize=(15, 10))\n",
        "for image, label, ax in zip(X_train[:num_images], y_train_onehot[:num_images], axes):\n",
        "    ax.imshow(image.reshape(28, 28), cmap='gray', vmin=0, vmax=1.0)\n",
        "    ax.set_title(f\"Label: {label}\")"
      ],
      "metadata": {
        "colab": {
          "base_uri": "https://localhost:8080/",
          "height": 246
        },
        "id": "2G0EUVRs2DCh",
        "outputId": "a30b25f0-d2c1-4bca-e297-8b3216b5a11f"
      },
      "execution_count": 9,
      "outputs": [
        {
          "output_type": "display_data",
          "data": {
            "text/plain": [
              "<Figure size 1080x720 with 4 Axes>"
            ],
            "image/png": "[encoded data removed]"
          },
          "metadata": {
            "needs_background": "light"
          }
        }
      ]
    },
    {
      "cell_type": "markdown",
      "source": [
        "## Implementation of Multilayer perceptron"
      ],
      "metadata": {
        "id": "LTHgDB8MCguR"
      }
    },
    {
      "cell_type": "markdown",
      "source": [
        "We'll first go through and write the code for each piece of an MLP (**without bias**) in generic Python functions. We'll then wrap everything in an `MLP` class, which will allow us to easily access all the MLP functionality in a user friendly manner."
      ],
      "metadata": {
        "id": "PS0HX6A_o5mL"
      }
    },
    {
      "cell_type": "markdown",
      "source": [
        "### Feed Forward"
      ],
      "metadata": {
        "id": "C4Wa7cQBpEql"
      }
    },
    {
      "cell_type": "markdown",
      "source": [
        "Implementing the forward pass of the neural network is relatively simply as everything is basically just a series of matrix multiplicaitons and activation functions. A two-layer MLP example we looked at when working through the math had a forward pass which mathematically took the form:\n",
        "$$\\sigma(\\mathbf{x}W^{(1)})W^{(2)}$$\n",
        "\n",
        "We'll of course want to make things a bit more modular by allowing the user to choose some of the neural network paramters, such as the number of hidden layers `L` and the number of neurons per layer `N_l`. For simplicity we'll restrict that all the hidden layers are treated with **sigmoid** activaitons."
      ],
      "metadata": {
        "id": "t7V2F14ppBdi"
      }
    },
    {
      "cell_type": "markdown",
      "source": [
        "The last step of process for classification tasks is actually producing a prediction from these numbers in the output layer. Typically, in the case of multi-label classification, this is done using a *softmax* activation function which effectively converts the output neurons into probabilities for each label. This has the mathematical form, $$\\text{softmax}(\\mathbf{z})_j = \\frac{\\exp(z_j)}{\\sum_{k=0}^{K=9}\\exp{(z_k)}}$$.\n",
        "\n",
        "The softmax activation function has the property of the outputs summing to 1 $\\sum_{k=1}^{K=9}\\text{softmax}(\\mathbf{z}^{(2)})_k = 1$, allowing each output $\\mathbf{a}^{(2)}_i = \\text{softmax}(\\mathbf{z}^{(2)})_i$ to be interpreted as the probability that the input is actually a digit `0-9`. Note, the output of a MLP does not need to have a softmax activation, for example in a regression setting a softmax activation would not make much sense. When evaluating the classification accuracy of the neural network, the input is typically classified according to the output label with the highest probability, \n",
        "\n",
        "$$\\text{prediction}(\\mathbf{x}) = \\text{argmax}\\  \\text{softmax}(\\mathbf{z}^{(2)}) = \\text{argmax}\\  \\text{softmax}((\\sigma(\\mathbf{x}W^{(1)})W^{(2)}))$$."
      ],
      "metadata": {
        "id": "5nFN2g3MrXWw"
      }
    },
    {
      "cell_type": "markdown",
      "source": [
        "We can start by simply defining our activation functions:"
      ],
      "metadata": {
        "id": "dF57FyDHJ2zl"
      }
    },
    {
      "cell_type": "code",
      "source": [
        "def sigmoid(x):\n",
        "    \"\"\"\n",
        "    Compute the sigmoid of `x`, calculated element-wise\n",
        "\n",
        "    Parameters\n",
        "    ----------\n",
        "    x : float or array_like\n",
        "        input\n",
        "\n",
        "    Returns\n",
        "    -------\n",
        "    sigmoid(x) : float or array_like\n",
        "        sigmoid applied to `x` element-wise\n",
        "    \"\"\"\n",
        "    # === Complete the code (0.5')\n",
        "    return 1 / (1 + np.exp(-x))\n",
        "    # === Complete the code"
      ],
      "metadata": {
        "id": "eRZKTMJqJ2LQ"
      },
      "execution_count": 10,
      "outputs": []
    },
    {
      "cell_type": "code",
      "source": [
        "def softmax(x):\n",
        "    \"\"\"\n",
        "    Compute the softmax of `x`,\n",
        "\n",
        "    Parameters\n",
        "    ----------\n",
        "    x : array_like\n",
        "        (N x dim) array with N samples by p dimensions. dim=10 for MNIST classification. \n",
        "\n",
        "    Returns\n",
        "    -------\n",
        "    softmax(x) : float or array_like\n",
        "        softmax applied to `x` along the first axis.\n",
        "    \"\"\"\n",
        "    \n",
        "    # === Complete the code (0.5')\n",
        "    for i in range(len(x)):\n",
        "        x[i] = np.exp(x[i]) / np.sum(np.exp(x[i]))\n",
        "    return x\n",
        "    # === Complete the code\n",
        "    "
      ],
      "metadata": {
        "id": "FAhoW7rfI1s-"
      },
      "execution_count": 11,
      "outputs": []
    },
    {
      "cell_type": "markdown",
      "source": [
        "The inputs `x`, weight matricies `w`, and activations are in principle all we need to define the forward pass; however, for efficency reasons we'll want to store the outputs of the hidden layer neurons when performing the forward pass. Storing these values will help us later more quickly calculate the gradients during the backward pass. The `init_layers` functions will initalize these hidden layers as NumPy arrays, doing this before we begin training will help us save some overhead we would otherwise inccur reinitalizing these hidden layers before each forward pass. These hidden layer values will be stored in multi-dimensional matricies, called *tensors*. One dimension of these tensors will be the `batch size` which will indicate the number of samples simultaneously passed to MLP during one training loop (feed forward + backpropagation)."
      ],
      "metadata": {
        "id": "IJO2LaDmsmXq"
      }
    },
    {
      "cell_type": "code",
      "source": [
        "def init_layers(batch_size, layer_sizes):\n",
        "    \"\"\"\n",
        "    Initalize arrays to store the hidden layer ouputs.\n",
        "\n",
        "    Parameters\n",
        "    ----------\n",
        "    batch_size : int\n",
        "        Number of samples to concurrently feed through the network.\n",
        "    layer_sizes : array_like\n",
        "        Array of length `N_l`. Each entry is the number of neurons in each layer.\n",
        "\n",
        "    Returns\n",
        "    -------\n",
        "    hidden_layers : list\n",
        "        List of empty arrays used to hold hidden layer outputs. \n",
        "    \"\"\"\n",
        "    hidden_layers = [np.empty((batch_size, layer_size)) for layer_size in layer_sizes]\n",
        "    return hidden_layers"
      ],
      "metadata": {
        "id": "0M-gOFpTsl3N"
      },
      "execution_count": 12,
      "outputs": []
    },
    {
      "cell_type": "markdown",
      "source": [
        "In order to perform a forward pass our input `x` is consequtively multiplied by weight matricies passed into the associated activaiton functions. The paramters in these weight matricies will ultimately be learned through backpropagation, but each weight matrix must first be initalized to random values. There are a number of different methods for doing this initalization, but for the moment we'll use a simple approach of just drawing the numerical values from a normal distribution with mean zero and standard deviation 1. We could have also reasonably choosen to simply draw from a uniform distribution on the range `[-1,1]`. "
      ],
      "metadata": {
        "id": "iiNL3Ubcsq8N"
      }
    },
    {
      "cell_type": "code",
      "source": [
        "def init_weights(layer_sizes):\n",
        "    \"\"\"\n",
        "    Initalize the paramters of the weight matricies.\n",
        "\n",
        "    Parameters\n",
        "    ----------\n",
        "    layer_sizes : array_like\n",
        "        Array of length `N_l`. Each entry is the number of neurons in each layer.\n",
        "\n",
        "    Returns\n",
        "    -------\n",
        "    weights : array_like\n",
        "        Randomly initalized weight matricies based on the layer sizes. \n",
        "    \"\"\"\n",
        "    weights = list()\n",
        "    for i in range(layer_sizes.shape[0] - 1):\n",
        "        weights.append(np.random.uniform(-1, 1, size=[layer_sizes[i], layer_sizes[i + 1]]))\n",
        "    return weights"
      ],
      "metadata": {
        "id": "2ojQ3Hl1svff"
      },
      "execution_count": 13,
      "outputs": []
    },
    {
      "cell_type": "markdown",
      "source": [
        "### Backpropagation"
      ],
      "metadata": {
        "id": "DHnQDrnMpSFL"
      }
    },
    {
      "cell_type": "markdown",
      "source": [
        "Initalizing all the weights, layers, and activations prior to the forward pass makes much of the backward pass implimentation actually quite simple. For convinience we'll define a `sigmoid_derivative` function, which simply computes the derivative of the sigmoid activation $\\sigma^{\\prime}$. We'll use this when computing the gradients during the backward pass."
      ],
      "metadata": {
        "id": "b7ek23WJOGHs"
      }
    },
    {
      "cell_type": "code",
      "source": [
        "def sigmoid_derivative(sigmoid_out):\n",
        "    \"\"\"\n",
        "    Calculate derivative of sigmoid activation based on sigmoid output.\n",
        "\n",
        "    Parameters\n",
        "    ----------\n",
        "    sigmoid_out : array_like\n",
        "        Output values processed by a sigmoid function.\n",
        "    \n",
        "    Returns\n",
        "    -------\n",
        "    sigmoid_derivative(h) : array_like\n",
        "        Derivative of sigmoid, based on value of sigmoid.\n",
        "    \"\"\"\n",
        "    # === Complete the code (0.5')\n",
        "    result = sigmoid_out * (1 - sigmoid_out)\n",
        "    # === Complete the code\n",
        "    return result"
      ],
      "metadata": {
        "id": "ZxfTWU_6oeE7"
      },
      "execution_count": 14,
      "outputs": []
    },
    {
      "cell_type": "markdown",
      "source": [
        "### Training"
      ],
      "metadata": {
        "id": "p9XZokeNpnUf"
      }
    },
    {
      "cell_type": "markdown",
      "source": [
        "You have **three tasks** in this section.\n",
        "\n",
        "1. You need to implement `__feed_forward` function.\n",
        "2. You need to implement `__back_prop` function.\n",
        "3. You need to implement the main loop of `train` function."
      ],
      "metadata": {
        "id": "yA9w06GhtWxt"
      }
    },
    {
      "cell_type": "code",
      "source": [
        "def to_categorical(x, class_num):\n",
        "    # Transform probabilities into categorical predictions row-wise, by simply taking the max probability\n",
        "    categorical = np.zeros((x.shape[0], class_num))\n",
        "    categorical[np.arange(x.shape[0]), x.argmax(axis=1)] = 1\n",
        "    return categorical\n",
        "\n",
        "def accuracy(y_pred, y):\n",
        "    # Compute the accuracy along the rows, averaging along the number of samples\n",
        "    return np.all(y_pred == y, axis=1).mean()\n",
        "\n",
        "def loss(y_pred, y):\n",
        "    # Compute the loss along the rows, averaging along the number of samples\n",
        "    loss_ = ((-np.log(y_pred)) * y).sum(axis=1).mean()\n",
        "    return loss_\n",
        "\n",
        "class MLP():\n",
        "\n",
        "    def __init__(self, X, Y, X_val, Y_val, L=1, N_l=128):\n",
        "        self.X = X\n",
        "        self.Y = np.squeeze(np.eye(10)[Y.astype(int).reshape(-1)])\n",
        "        self.X_val = X_val\n",
        "        self.Y_val = np.squeeze(np.eye(10)[Y_val.astype(int).reshape(-1)])\n",
        "        self.L = L\n",
        "        self.N_l = N_l\n",
        "        self.n_samples = self.X.shape[0]\n",
        "        self.layer_sizes = np.array([self.X.shape[1]] + [N_l] * L + [self.Y.shape[1]])\n",
        "        self.__init_weights()\n",
        "        self.train_loss = list()\n",
        "        self.train_acc = list()\n",
        "        self.val_loss = list()\n",
        "        self.val_acc = list()\n",
        "        self.train_time = list()\n",
        "        self.tot_time = list()\n",
        "        self.metrics = [\n",
        "            self.train_loss, self.train_acc, self.val_loss, self.val_acc, self.train_time,\n",
        "            self.tot_time\n",
        "        ]\n",
        "\n",
        "        self.class_num = self.Y.shape[1]\n",
        "\n",
        "    def __init_weights(self):\n",
        "        # Initialize the weights of the network given the sizes of the layers\n",
        "        self.weights = list()\n",
        "        for i in range(self.layer_sizes.shape[0] - 1):\n",
        "            self.weights.append(\n",
        "                np.random.uniform(-1, 1, size=[self.layer_sizes[i], self.layer_sizes[i + 1]]))\n",
        "        self.weights = np.asarray(self.weights)\n",
        "\n",
        "    def __init_layers(self, batch_size):\n",
        "        # Initialize and allocate arrays for the hidden layer activations\n",
        "        self.__h = [np.empty((batch_size, layer)) for layer in self.layer_sizes]\n",
        "\n",
        "    def __feed_forward(self, batch):\n",
        "        # Perform a forward pass of `batch` samples (N_samples x N_features)\n",
        "        out_ = batch\n",
        "        # === Complete the code (1.5')\n",
        "        for i in range(len(self.weights)):\n",
        "          self.__h[i] = out_\n",
        "          out_ = np.matmul(self.__h[i], self.weights[i])\n",
        "          if i != len(self.weights) - 1:\n",
        "            out_ = sigmoid(out_)\n",
        "          else:\n",
        "            out_ = softmax(out_)\n",
        "        self.__h[-1] = out_\n",
        "        # === Complete the code\n",
        "        self.__out = out_\n",
        "\n",
        "    def __back_prop(self, batch_y):\n",
        "        # Update the weights of the network through back-propagation\n",
        "        # === Complete the code (1.5')\n",
        "        n_weights = len(self.weights)\n",
        "        error = (self.__out - batch_y) / self.batch_size\n",
        "        mid_res = None\n",
        "        for i in range(n_weights - 1, -1, -1):\n",
        "          if i == n_weights - 1:\n",
        "            G = np.matmul(self.__h[i].T, error)\n",
        "            mid_res = error\n",
        "            self.weights[i] -= self.lr * G\n",
        "          else:\n",
        "            sig_d = sigmoid_derivative(self.__h[i + 1])\n",
        "            mid_res = np.matmul(mid_res, self.weights[i + 1].T) * sig_d\n",
        "            G = np.matmul(self.__h[i].T, mid_res)\n",
        "            self.weights[i] -= self.lr * G\n",
        "        # === Complete the code\n",
        "\n",
        "    def predict(self, X):\n",
        "        # Generate a categorical, one-hot, prediction given an input X\n",
        "        self.__init_layers(X.shape[0])\n",
        "        self.__feed_forward(X)\n",
        "        return to_categorical(self.__out, self.class_num)\n",
        "\n",
        "    def evaluate(self, X, Y):\n",
        "        # Evaluate the performance (accuracy) predicting on X with true labels Y\n",
        "        prediction = self.predict(X)\n",
        "        return accuracy(prediction, Y)\n",
        "\n",
        "    def train(self, batch_size=8, epochs=25, lr=1.0):\n",
        "        # Train the model with a given batch size, epochs, and learning rate. Store and print relevant metrics.\n",
        "        self.lr = lr\n",
        "        self.batch_size = batch_size\n",
        "        for epoch in range(epochs):\n",
        "            start = time.time()\n",
        "\n",
        "            self.__init_layers(self.batch_size)\n",
        "            shuffle = np.random.permutation(self.n_samples)\n",
        "            train_loss = 0\n",
        "            train_acc = 0\n",
        "            X_batches = np.array_split(self.X[shuffle], self.n_samples / self.batch_size)\n",
        "            Y_batches = np.array_split(self.Y[shuffle], self.n_samples / self.batch_size)\n",
        "            for batch_x, batch_y in zip(X_batches, Y_batches):\n",
        "                # === Complete the code (1.5')\n",
        "                self.__feed_forward(batch_x)\n",
        "                train_loss_batch = loss(self.__out, batch_y)\n",
        "                train_loss += train_loss_batch\n",
        "                train_acc_batch = accuracy(to_categorical(self.__out, self.class_num), batch_y)\n",
        "                train_acc += train_acc_batch\n",
        "                self.__back_prop(batch_y)\n",
        "                # === Complete the code\n",
        "\n",
        "            train_loss = (train_loss / len(X_batches))\n",
        "            train_acc = (train_acc / len(X_batches))\n",
        "            self.train_loss.append(train_loss)\n",
        "            self.train_acc.append(train_acc)\n",
        "\n",
        "            train_time = round(time.time() - start, 3)\n",
        "            self.train_time.append(train_time)\n",
        "\n",
        "            self.__init_layers(self.X_val.shape[0])\n",
        "            self.__feed_forward(self.X_val)\n",
        "            val_loss = loss(self.__out, self.Y_val)\n",
        "            val_acc = accuracy(to_categorical(self.__out, self.class_num), self.Y_val)\n",
        "            self.val_loss.append(val_loss)\n",
        "            self.val_acc.append(val_acc)\n",
        "\n",
        "            tot_time = round(time.time() - start, 3)\n",
        "            self.tot_time.append(tot_time)\n",
        "\n",
        "            print(\n",
        "                f\"Epoch {epoch+1}: loss = {train_loss.round(3)} | acc = {train_acc.round(3)} | val_loss = {val_loss.round(3)} | val_acc = {val_acc.round(3)} | train_time = {train_time} | tot_time = {tot_time}\"\n",
        "            )\n"
      ],
      "metadata": {
        "id": "_-ERNpYWpYc4"
      },
      "execution_count": 15,
      "outputs": []
    },
    {
      "cell_type": "markdown",
      "source": [
        "Great, now let's give this a try. Let's create a really simple MLP with only a single hidden layer `L=2` with 64 neurons `N_l=64`. We'll train with a `batch_size=8` for `epochs=20` and a learning rate `lr=0.2`."
      ],
      "metadata": {
        "id": "VrUiDpPynrLF"
      }
    },
    {
      "cell_type": "code",
      "source": [
        "model = MLP(X_train, Y_train, X_test, Y_test, L=2, N_l=64)\n",
        "model.train(batch_size=8, epochs=20, lr=0.2)"
      ],
      "metadata": {
        "colab": {
          "base_uri": "https://localhost:8080/"
        },
        "id": "fkkmE_mQpb4j",
        "outputId": "56e6f59e-f582-41c9-b46d-7939841a0b14"
      },
      "execution_count": 16,
      "outputs": [
        {
          "output_type": "stream",
          "name": "stderr",
          "text": [
            "/usr/local/lib/python3.7/dist-packages/ipykernel_launcher.py:47: VisibleDeprecationWarning: Creating an ndarray from ragged nested sequences (which is a list-or-tuple of lists-or-tuples-or ndarrays with different lengths or shapes) is deprecated. If you meant to do this, you must specify 'dtype=object' when creating the ndarray.\n"
          ]
        },
        {
          "output_type": "stream",
          "name": "stdout",
          "text": [
            "Epoch 1: loss = 0.403 | acc = 0.874 | val_loss = 0.242 | val_acc = 0.925 | train_time = 14.365 | tot_time = 15.074\n",
            "Epoch 2: loss = 0.209 | acc = 0.937 | val_loss = 0.171 | val_acc = 0.948 | train_time = 7.733 | tot_time = 8.034\n",
            "Epoch 3: loss = 0.16 | acc = 0.951 | val_loss = 0.163 | val_acc = 0.95 | train_time = 8.823 | tot_time = 9.105\n",
            "Epoch 4: loss = 0.129 | acc = 0.96 | val_loss = 0.155 | val_acc = 0.952 | train_time = 7.627 | tot_time = 8.073\n",
            "Epoch 5: loss = 0.108 | acc = 0.966 | val_loss = 0.135 | val_acc = 0.961 | train_time = 7.53 | tot_time = 7.81\n",
            "Epoch 6: loss = 0.093 | acc = 0.971 | val_loss = 0.156 | val_acc = 0.957 | train_time = 7.526 | tot_time = 7.819\n",
            "Epoch 7: loss = 0.079 | acc = 0.975 | val_loss = 0.126 | val_acc = 0.964 | train_time = 7.625 | tot_time = 7.903\n",
            "Epoch 8: loss = 0.07 | acc = 0.978 | val_loss = 0.135 | val_acc = 0.962 | train_time = 7.471 | tot_time = 7.744\n",
            "Epoch 9: loss = 0.062 | acc = 0.98 | val_loss = 0.125 | val_acc = 0.966 | train_time = 7.543 | tot_time = 7.815\n",
            "Epoch 10: loss = 0.055 | acc = 0.982 | val_loss = 0.133 | val_acc = 0.965 | train_time = 7.497 | tot_time = 7.77\n",
            "Epoch 11: loss = 0.049 | acc = 0.984 | val_loss = 0.124 | val_acc = 0.965 | train_time = 7.584 | tot_time = 7.867\n",
            "Epoch 12: loss = 0.042 | acc = 0.987 | val_loss = 0.131 | val_acc = 0.965 | train_time = 8.011 | tot_time = 8.289\n",
            "Epoch 13: loss = 0.036 | acc = 0.989 | val_loss = 0.121 | val_acc = 0.967 | train_time = 7.486 | tot_time = 7.823\n",
            "Epoch 14: loss = 0.032 | acc = 0.991 | val_loss = 0.132 | val_acc = 0.965 | train_time = 7.396 | tot_time = 7.691\n",
            "Epoch 15: loss = 0.028 | acc = 0.992 | val_loss = 0.131 | val_acc = 0.966 | train_time = 9.247 | tot_time = 9.55\n",
            "Epoch 16: loss = 0.026 | acc = 0.992 | val_loss = 0.134 | val_acc = 0.966 | train_time = 7.448 | tot_time = 7.736\n",
            "Epoch 17: loss = 0.022 | acc = 0.993 | val_loss = 0.125 | val_acc = 0.968 | train_time = 7.443 | tot_time = 7.716\n",
            "Epoch 18: loss = 0.018 | acc = 0.995 | val_loss = 0.13 | val_acc = 0.969 | train_time = 7.638 | tot_time = 7.907\n",
            "Epoch 19: loss = 0.016 | acc = 0.996 | val_loss = 0.129 | val_acc = 0.967 | train_time = 7.507 | tot_time = 7.8\n",
            "Epoch 20: loss = 0.013 | acc = 0.997 | val_loss = 0.133 | val_acc = 0.967 | train_time = 7.586 | tot_time = 7.876\n"
          ]
        }
      ]
    },
    {
      "cell_type": "code",
      "source": [
        "fig,ax = plt.subplots(1,2,figsize=(15,5))\n",
        "ax[0].plot(model.train_loss,label=\"Train loss\")\n",
        "ax[0].plot(model.val_loss,label=\"Val loss\")\n",
        "ax[0].legend()\n",
        "ax[0].set_xlabel(\"Epoch\")\n",
        "ax[0].set_ylabel(\"Loss\")\n",
        "\n",
        "ax[1].plot(model.train_acc,label=\"Train acc\")\n",
        "ax[1].plot(model.val_acc,label=\"Val acc\")\n",
        "ax[1].legend()\n",
        "ax[1].set_xlabel(\"Epoch\")\n",
        "ax[1].set_ylabel(\"Accuracy\")"
      ],
      "metadata": {
        "colab": {
          "base_uri": "https://localhost:8080/",
          "height": 352
        },
        "id": "b8IawSzBSRNI",
        "outputId": "4422c035-da6a-43d8-9b11-717869b64be4"
      },
      "execution_count": 17,
      "outputs": [
        {
          "output_type": "execute_result",
          "data": {
            "text/plain": [
              "Text(0, 0.5, 'Accuracy')"
            ]
          },
          "metadata": {},
          "execution_count": 17
        },
        {
          "output_type": "display_data",
          "data": {
            "text/plain": [
              "<Figure size 1080x360 with 2 Axes>"
            ],
            "image/png": "[encoded data removed]"
          },
          "metadata": {
            "needs_background": "light"
          }
        }
      ]
    },
    {
      "cell_type": "markdown",
      "source": [
        "## Discussion (2 points)\n",
        "\n",
        "In this section, you are free to choose some of the following directions to explore, and try to summarize some patterns and conclusions.\n",
        "\n",
        "* Try to use different learning rates and generalize the impact of learning rate on training.\n",
        "* Try to use different number of layers of MLPs or different number of neurons of MLPs (including different ways of weight initialization) and explore the impact on the final classification performance.\n",
        "* Try to use a portion of the data for training (e.g., 10%, 20%, 50%) to explore the training convergence and final classification performance with different amounts of data.\n",
        "\n",
        "> **NOTE:** *Good Disscusion* include experimental setup, presentation of experimental results including visualization, analysis and interpretation of phenomena, and summary of conclusions"
      ],
      "metadata": {
        "id": "i9rgEKrTCseN"
      }
    },
    {
      "cell_type": "code",
      "source": [
        "# === Complete the code (2')\n",
        "\n",
        "# === Complete the code"
      ],
      "metadata": {
        "id": "IpuUw__XX2BE"
      },
      "execution_count": 18,
      "outputs": []
    },
    {
      "cell_type": "markdown",
      "source": [
        "Write down your analysis and conclusions:\n",
        "\n"
      ],
      "metadata": {
        "id": "hq6eF7KSX7oS"
      }
    },
    {
      "cell_type": "code",
      "source": [],
      "metadata": {
        "id": "Voo4eCfvcyKO"
      },
      "execution_count": 18,
      "outputs": []
    }
  ]
}