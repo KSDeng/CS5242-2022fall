{
  "cells": [
    {
      "cell_type": "markdown",
      "metadata": {
        "id": "IjOZXM4o8ARu"
      },
      "source": [
        "# CS5242 HW1: Get started with PyTorch\n",
        "\n",
        "PyTorch is an open source machine learning framework with 58k stars on the [github](https://github.com/pytorch/pytorch). In this code tutorial we will learn the basic of PyTorch.\n",
        "\n",
        "Colab is a hosted Jupyter notebook service that requires no setup to use, while providing access free of charge to computing resources including GPUs. In this semester, we will use Colab to run our experiments."
      ]
    },
    {
      "cell_type": "markdown",
      "metadata": {
        "id": "cjW6lJ2Q81N4"
      },
      "source": [
        "## Section 1: Environmental Setup\n",
        "\n",
        "First, we need to install the PyTorch and check the pytorch version."
      ]
    },
    {
      "cell_type": "code",
      "execution_count": 32,
      "metadata": {
        "colab": {
          "base_uri": "https://localhost:8080/",
          "height": 89
        },
        "id": "QV9aoa5Q0OiH",
        "outputId": "8fe4afbe-1364-447c-a0d1-62aaad764974"
      },
      "outputs": [
        {
          "output_type": "stream",
          "name": "stdout",
          "text": [
            "Looking in indexes: https://pypi.org/simple, https://us-python.pkg.dev/colab-wheels/public/simple/\n",
            "Requirement already satisfied: torch in /usr/local/lib/python3.7/dist-packages (1.12.1+cu113)\n",
            "Requirement already satisfied: typing-extensions in /usr/local/lib/python3.7/dist-packages (from torch) (4.1.1)\n"
          ]
        },
        {
          "output_type": "execute_result",
          "data": {
            "text/plain": [
              "'1.12.1+cu113'"
            ],
            "application/vnd.google.colaboratory.intrinsic+json": {
              "type": "string"
            }
          },
          "metadata": {},
          "execution_count": 32
        }
      ],
      "source": [
        "!pip3 install torch\n",
        "\n",
        "import torch\n",
        "torch.__version__"
      ]
    },
    {
      "cell_type": "markdown",
      "metadata": {
        "id": "tT09jYu-9ecO"
      },
      "source": [
        "Here are some routines for importing and setting up torch."
      ]
    },
    {
      "cell_type": "code",
      "execution_count": 33,
      "metadata": {
        "colab": {
          "base_uri": "https://localhost:8080/"
        },
        "id": "oMPTE7J01v-p",
        "outputId": "a22bd157-ddd5-4f99-e0af-6838cfae62fb"
      },
      "outputs": [
        {
          "output_type": "execute_result",
          "data": {
            "text/plain": [
              "<torch._C.Generator at 0x7f30a9218c70>"
            ]
          },
          "metadata": {},
          "execution_count": 33
        }
      ],
      "source": [
        "# frequently used import\n",
        "import torch\n",
        "import torch.nn as nn\n",
        "import torch.nn.functional as F\n",
        "import numpy as np\n",
        "import random\n",
        "import matplotlib.pyplot as plt\n",
        "\n",
        "# fix the random number so that the experiments are reproducible\n",
        "random.seed(0)\n",
        "np.random.seed(0)\n",
        "torch.manual_seed(0)"
      ]
    },
    {
      "cell_type": "markdown",
      "metadata": {
        "id": "TeVi4BmJ-cI-"
      },
      "source": [
        "The best referrence for pytorch is its [document](https://pytorch.org/docs/stable/index.html). PyTorch is well-known for a good community.\n",
        "\n",
        "Now let's setup the GPU environment. The colab provides a free GPU to use. Do as follows:\n",
        "\n",
        "- Runtime -> Change Runtime Type -> select `GPU` in Hardware accelerator\n",
        "- Click `connect` on the top-right\n",
        "\n",
        "After connecting to one GPU, you can check its status using `nvidia-smi` command."
      ]
    },
    {
      "cell_type": "code",
      "execution_count": 34,
      "metadata": {
        "colab": {
          "base_uri": "https://localhost:8080/"
        },
        "id": "Zd4WVQP6-Anp",
        "outputId": "47226e6c-ed78-4954-af19-f94ccb7def6b"
      },
      "outputs": [
        {
          "output_type": "stream",
          "name": "stdout",
          "text": [
            "Mon Aug 29 04:28:50 2022       \n",
            "+-----------------------------------------------------------------------------+\n",
            "| NVIDIA-SMI 460.32.03    Driver Version: 460.32.03    CUDA Version: 11.2     |\n",
            "|-------------------------------+----------------------+----------------------+\n",
            "| GPU  Name        Persistence-M| Bus-Id        Disp.A | Volatile Uncorr. ECC |\n",
            "| Fan  Temp  Perf  Pwr:Usage/Cap|         Memory-Usage | GPU-Util  Compute M. |\n",
            "|                               |                      |               MIG M. |\n",
            "|===============================+======================+======================|\n",
            "|   0  Tesla T4            Off  | 00000000:00:04.0 Off |                    0 |\n",
            "| N/A   49C    P0    28W /  70W |    610MiB / 15109MiB |      0%      Default |\n",
            "|                               |                      |                  N/A |\n",
            "+-------------------------------+----------------------+----------------------+\n",
            "                                                                               \n",
            "+-----------------------------------------------------------------------------+\n",
            "| Processes:                                                                  |\n",
            "|  GPU   GI   CI        PID   Type   Process name                  GPU Memory |\n",
            "|        ID   ID                                                   Usage      |\n",
            "|=============================================================================|\n",
            "+-----------------------------------------------------------------------------+\n"
          ]
        }
      ],
      "source": [
        "!nvidia-smi"
      ]
    },
    {
      "cell_type": "markdown",
      "metadata": {
        "id": "nVKG11x__bwn"
      },
      "source": [
        "Here, you can see the memory and memory usage of the applied GPU. For my case, the applied one is a Tesla T4. The GPU applied may be different, but it is ok for our experiments.\n",
        "\n",
        "Now let's create tensor, which is the basic element in PyTorch."
      ]
    },
    {
      "cell_type": "code",
      "execution_count": 35,
      "metadata": {
        "colab": {
          "base_uri": "https://localhost:8080/"
        },
        "id": "fh8esjGD_Zgk",
        "outputId": "db20f00c-e3bc-4b6c-d74e-851d33820430"
      },
      "outputs": [
        {
          "output_type": "stream",
          "name": "stdout",
          "text": [
            "x1: tensor(1.)\n",
            "x2: tensor(1., device='cuda:0')\n",
            "x3: tensor(1., device='cuda:0', grad_fn=<ToCopyBackward0>)\n"
          ]
        }
      ],
      "source": [
        "x1 = torch.tensor(1.0) # tensor on CPU\n",
        "x2 = torch.tensor(1.0, device=\"cuda:0\") # tensor on GPU\n",
        "x3 = torch.tensor(1.0, requires_grad=True).cuda() # tensor on GPU and require grad\n",
        "print(\"x1:\", x1)\n",
        "print(\"x2:\", x2)\n",
        "print(\"x3:\", x3)"
      ]
    },
    {
      "cell_type": "markdown",
      "metadata": {
        "id": "NjwOgo_9Iw7N"
      },
      "source": [
        "In the following sections, you need to fill in the code to complete the function and answer the questions.\n",
        "\n",
        "The question will be in the form:\n",
        "\n",
        "===> Question: What is deep learning?  \n",
        "===> Answer:  \n",
        "Your answer here.\n",
        "\n",
        "The code completion will be in the form:"
      ]
    },
    {
      "cell_type": "code",
      "execution_count": 36,
      "metadata": {
        "id": "YfUaeMpxJTXD"
      },
      "outputs": [],
      "source": [
        "# === Complete the code\n",
        "\n",
        "# === Complete the code"
      ]
    },
    {
      "cell_type": "markdown",
      "metadata": {
        "id": "eiVo1YcIkhE8"
      },
      "source": [
        "Grades: HW1 is composed of two parts and 10 points in all. Each part contains 5 points.  \n",
        "\n",
        "The homework on PDF consists of 10 questions, each is worth 0.5 points. You can write the answer by LaTeX, word or handwritting (take photo) and submit to the system.  \n",
        "\n",
        "The homework here on notebook (colab) consists of several code completions and 5 questions. There are 18 units for code completions (one unit for one line, which is also a hint). And there are 12 units for questions. 30 units in total will share the 5 points. For submission, you need to submit the notebook with output.\n",
        "\n",
        "15% off per day late (17:01 is the start of one day)​\n",
        "\n",
        "0 score if you submit it 7 days after the deadline​\n",
        "\n",
        "Deadline for homework on PDF: 17:00, 22 Aug  \n",
        "Deadline for homework on Notebook: 17:00, 30 Aug"
      ]
    },
    {
      "cell_type": "markdown",
      "metadata": {
        "id": "aQQbaMIPBX_r"
      },
      "source": [
        "## Section 2: Basic Usage"
      ]
    },
    {
      "cell_type": "code",
      "execution_count": 37,
      "metadata": {
        "colab": {
          "base_uri": "https://localhost:8080/"
        },
        "id": "nMrDE_L6Afkx",
        "outputId": "e0437388-9b2f-4cda-8a21-f4c705bf10d9"
      },
      "outputs": [
        {
          "output_type": "stream",
          "name": "stdout",
          "text": [
            "tensor(4.)\n",
            "tensor(2.)\n",
            "tensor(2.)\n"
          ]
        }
      ],
      "source": [
        "# 2.1: Use autograd to calculate gradients\n",
        "\n",
        "# Create tensors.\n",
        "x = torch.tensor(1., requires_grad=True)\n",
        "w = torch.tensor(2., requires_grad=True)\n",
        "b = torch.tensor(3., requires_grad=True)\n",
        "y = torch.tensor(4.)\n",
        "\n",
        "# Build a computational graph.\n",
        "pred = w * x + b\n",
        "L = (pred - y)**2\n",
        "\n",
        "# Compute gradients.\n",
        "# === Complete the code (1')\n",
        "L.backward()\n",
        "# === Complete the code\n",
        "\n",
        "# Print out the gradients.\n",
        "print(x.grad)\n",
        "print(w.grad)\n",
        "print(b.grad)"
      ]
    },
    {
      "cell_type": "markdown",
      "metadata": {
        "id": "ZhnZkwPcJ-EU"
      },
      "source": [
        "===> Question 1: Compute the above gradients on your own and show the result from PyTorch is correct. (2')  \n",
        "===> Answer:   \n",
        "`dL/dx = dL/dpred * dpred/dx = 2 * w = 4`   \n",
        "`dL/dw = dL/dpred * dpred/dw = 2 * x = 2`   \n",
        "`dL/db = dL/dpred * dpred/db = 2 * 1 = 2`"
      ]
    },
    {
      "cell_type": "code",
      "execution_count": 38,
      "metadata": {
        "colab": {
          "base_uri": "https://localhost:8080/"
        },
        "id": "yfGXyGNRIfzk",
        "outputId": "c180c7fd-2a11-4663-bad7-2b5c9d974ea7"
      },
      "outputs": [
        {
          "output_type": "stream",
          "name": "stdout",
          "text": [
            "tensor(1.9800, requires_grad=True)\n",
            "tensor(2.9800, requires_grad=True)\n",
            "tensor(0.9216, grad_fn=<PowBackward0>)\n"
          ]
        }
      ],
      "source": [
        "# 2.2 update parameters by gradient descent\n",
        "\n",
        "# we want to update parameters w and b\n",
        "lr = 0.01\n",
        "\n",
        "# 1-step gradient descent\n",
        "# === Complete the code (2')\n",
        "\n",
        "\n",
        "# === Complete the code\n",
        "\n",
        "# current loss\n",
        "pred = w * x + b\n",
        "L = (pred - y)**2\n",
        "\n",
        "w.data = w.data - lr * w.grad\n",
        "b.data = b.data - lr * b.grad\n",
        "pred = w * x + b\n",
        "L = (pred - y)**2\n",
        "\n",
        "print(w)\n",
        "print(b)\n",
        "print(L)"
      ]
    },
    {
      "cell_type": "code",
      "execution_count": 39,
      "metadata": {
        "colab": {
          "base_uri": "https://localhost:8080/"
        },
        "id": "BhtTMooZK5gU",
        "outputId": "8ff437fc-4a98-47bf-9ae4-2b6b84ff52a9"
      },
      "outputs": [
        {
          "output_type": "stream",
          "name": "stdout",
          "text": [
            "tensor(1.8914, requires_grad=True)\n",
            "tensor(2.8914, requires_grad=True)\n",
            "tensor(0.6648, grad_fn=<PowBackward0>)\n"
          ]
        }
      ],
      "source": [
        "# 2.3 update parameters by optimizer\n",
        "\n",
        "# Use SGD optimizer\n",
        "optimizer = torch.optim.SGD([w, b], lr=0.01)\n",
        "\n",
        "# 5-step gradient descent.\n",
        "for t in range(5):\n",
        "  pred = w * x + b\n",
        "  L = (pred - y)**2\n",
        "  optimizer.zero_grad()\n",
        "  # === Complete the code (2')\n",
        "  L.backward()\n",
        "  optimizer.step()\n",
        "  # === Complete the code\n",
        "\n",
        "print(w)\n",
        "print(b)\n",
        "print(L)"
      ]
    },
    {
      "cell_type": "markdown",
      "metadata": {
        "id": "26UwTeMmNZ1v"
      },
      "source": [
        "===> Question 2: Why do we need `optimizer.zero_grad()`? (1') What happens if we do not `zero_grad` in each step? (1')  \n",
        "===> Answer: We do this step because we want to explicitly set the gradients to zero before doing backpropagation. By default, PyTorch accumulates the gradients on subsequent backward pass, so we should zero out the gradients to do the parameter update correctly.\n",
        "\n",
        "===> Question 3: What's the meaning of `grad_fn=<PowBackward0>`? (1')  \n",
        "===> Answer: During the forward pass PyTorch will track the operations if one of the involved tensors requires gradients and will create a computation graph from these operations. To be able to backpropagate through this computation graph and to calculate the gradients for all involved parameters, PyTorch will additionally store the corresponding \"gradient functions\" of the executed operations to the output tensor, which will be called in `.backward()` operation to do backpropagation.\n"
      ]
    },
    {
      "cell_type": "code",
      "execution_count": 40,
      "metadata": {
        "colab": {
          "base_uri": "https://localhost:8080/"
        },
        "id": "4Nfs1aLuK8Dw",
        "outputId": "9bb30a24-2f43-47a9-9c50-c8caf3db7754"
      },
      "outputs": [
        {
          "output_type": "stream",
          "name": "stdout",
          "text": [
            "tensor([[ 4.6747e+09,  0.0000e+00, -4.2358e+00],\n",
            "        [-5.6924e+00, -4.7237e+00, -3.1987e+00]])\n",
            "tensor([[0, 0, 0],\n",
            "        [0, 0, 0]])\n",
            "tensor([[0.4963, 0.7682, 0.0885],\n",
            "        [0.1320, 0.3074, 0.6341]])\n",
            "tensor([[ 1.2645, -0.6874,  0.1604],\n",
            "        [-0.6065, -0.7831,  1.0622]])\n",
            "tensor([[1, 2],\n",
            "        [3, 4]])\n",
            "[[1 2]\n",
            " [3 4]]\n"
          ]
        }
      ],
      "source": [
        "# 2.4 create tensors\n",
        "\n",
        "shape = (2, 3)\n",
        "\n",
        "# create an empty tensor\n",
        "x = torch.empty(shape)\n",
        "print(x)\n",
        "\n",
        "# create a full-zero tensor with type long\n",
        "# === Complete the code (1')\n",
        "x = torch.zeros(shape, dtype=torch.long)\n",
        "# === Complete the code\n",
        "print(x)\n",
        "\n",
        "# create a a tensor filled with random numbers from \n",
        "# a uniform distribution on the interval [0, 1)\n",
        "# === Complete the code (1')\n",
        "x = torch.rand(shape)\n",
        "# === Complete the code\n",
        "print(x)\n",
        "\n",
        "# create a tensor filled with random numbers from a standard normal distribution\n",
        "# === Complete the code (1')\n",
        "x = torch.randn(shape)\n",
        "# === Complete the code\n",
        "print(x)\n",
        "\n",
        "# create a tensor from numpy\n",
        "x = np.array([[1, 2], [3, 4]])\n",
        "# === Complete the code (1')\n",
        "x = torch.from_numpy(x)\n",
        "# === Complete the code\n",
        "print(x)\n",
        "\n",
        "# convert a tensor to numpy\n",
        "x = x.numpy()\n",
        "print(x)"
      ]
    },
    {
      "cell_type": "code",
      "execution_count": 41,
      "metadata": {
        "colab": {
          "base_uri": "https://localhost:8080/"
        },
        "id": "nsj3pdawPs5o",
        "outputId": "786f6a51-7335-4745-ad2d-b1d5092eaf2d"
      },
      "outputs": [
        {
          "output_type": "stream",
          "name": "stdout",
          "text": [
            "w:  Parameter containing:\n",
            "tensor([[ 0.5431,  0.3890, -0.2517],\n",
            "        [-0.1453, -0.5500, -0.0104]], requires_grad=True)\n",
            "b:  Parameter containing:\n",
            "tensor([-0.4348, -0.4453], requires_grad=True)\n",
            "loss:  2.650336503982544\n",
            "dL/dw:  tensor([[ 1.0951,  0.9776, -1.2607],\n",
            "        [ 0.0268, -1.7639, -0.2130]])\n",
            "dL/db:  tensor([-0.3936, -1.1098])\n"
          ]
        }
      ],
      "source": [
        "# 2.5 gradient of matrix and vector\n",
        "\n",
        "# Create tensors of shape (10, 3) and (10, 2).\n",
        "x = torch.randn(10, 3)\n",
        "y = torch.randn(10, 2)\n",
        "\n",
        "# Build a fully connected layer.\n",
        "linear = nn.Linear(3, 2)\n",
        "print ('w: ', linear.weight)\n",
        "print ('b: ', linear.bias)\n",
        "\n",
        "# Build loss function and optimizer.\n",
        "criterion = nn.MSELoss()\n",
        "\n",
        "# Forward pass.\n",
        "pred = linear(x)\n",
        "\n",
        "# Compute loss.\n",
        "# === Complete the code (1')\n",
        "loss = criterion(pred, y)\n",
        "# === Complete the code\n",
        "print('loss: ', loss.item())\n",
        "\n",
        "# Backward pass.\n",
        "loss.backward()\n",
        "\n",
        "# Print out the gradients.\n",
        "# === Complete the code (2')\n",
        "print ('dL/dw: ', linear.weight.grad) \n",
        "print ('dL/db: ', linear.bias.grad)\n",
        "# === Complete the code"
      ]
    },
    {
      "cell_type": "markdown",
      "metadata": {
        "id": "5Jmln-rJUTbq"
      },
      "source": [
        "===> Question 4: What is the function of the above code? Do a shape check for the gradient computation above. (2')  \n",
        "===> Answer: The above code use MSE loss and calculate the gradiants of loss to `w` and loss to `b`. The shape of `w` and `b` is `2 * 3` and `1 * 2` respectively, and `L` is a scalar, so theoretically the shape of `dL/dw` should be the same as `w`, which is `2 * 3`, and the shape of `dL/db` should be the same as `b`, which is `1 * 2`. The result of PyTorch matches these results."
      ]
    },
    {
      "cell_type": "markdown",
      "metadata": {
        "id": "gxHzvhMseEQI"
      },
      "source": [
        "## Section 3: Linear Regression\n"
      ]
    },
    {
      "cell_type": "code",
      "execution_count": 42,
      "metadata": {
        "id": "2QS90Mv4T03n"
      },
      "outputs": [],
      "source": [
        "# Hyper-parameters\n",
        "input_size = 1\n",
        "output_size = 1\n",
        "\n",
        "# Toy dataset\n",
        "x_train = np.array([[3.2], [4.1], [5.6], [7.69], [6.3], [4.112], \n",
        "                    [9.79], [5.182], [6.59], [3.167], [7.042], \n",
        "                    [10.921], [5.268], [7.9], [3.0]], dtype=np.float32)\n",
        "\n",
        "y_train = np.array([[1.7], [2.76], [2.09], [3.19], [1.694], [1.573], \n",
        "                    [3.366], [2.596], [2.53], [1.221], [2.827], \n",
        "                    [3.465], [1.65], [2.904], [1.3]], dtype=np.float32)"
      ]
    },
    {
      "cell_type": "code",
      "execution_count": 43,
      "metadata": {
        "id": "7dhHzTVaePXF"
      },
      "outputs": [],
      "source": [
        "def main(learning_rate=0.001, num_epochs = 60):\n",
        "  print('Learning rate = {}, num of epochs = {}'.format(learning_rate, num_epochs))\n",
        "  # Linear regression model\n",
        "  model = nn.Linear(input_size, output_size)\n",
        "\n",
        "  # Loss and optimizer\n",
        "  criterion = nn.MSELoss()\n",
        "\n",
        "  # Create optimizer\n",
        "  # Hint: check manual for model.parameters\n",
        "  # === Complete the code (1')\n",
        "  optimizer = torch.optim.SGD(model.parameters(), lr = learning_rate)\n",
        "  # === Complete the code\n",
        "\n",
        "  # Train the model\n",
        "  for epoch in range(num_epochs):\n",
        "      # Convert numpy arrays to torch tensors\n",
        "      inputs = torch.from_numpy(x_train)\n",
        "      targets = torch.from_numpy(y_train)\n",
        "\n",
        "      # Forward pass\n",
        "      # === Complete the code (2')\n",
        "      outputs = model(inputs)\n",
        "      loss = criterion(outputs, targets)\n",
        "      # === Complete the code\n",
        "      \n",
        "      # Backward and optimize\n",
        "      # === Complete the code (3')\n",
        "      optimizer.zero_grad()\n",
        "      loss.backward()\n",
        "      optimizer.step()\n",
        "      # === Complete the code\n",
        "      \n",
        "      if (epoch+1) % 5 == 0:\n",
        "          print ('Epoch [{}/{}], Loss: {:.4f}'.format(epoch+1, num_epochs, loss.item()))\n",
        "\n",
        "  # Plot the graph\n",
        "  predicted = model(torch.from_numpy(x_train)).detach().numpy()\n",
        "  plt.plot(x_train, y_train, 'ro', label='Original data')\n",
        "  plt.plot(x_train, predicted, label='Fitted line')\n",
        "  plt.legend()\n",
        "  plt.show()"
      ]
    },
    {
      "cell_type": "code",
      "execution_count": 44,
      "metadata": {
        "colab": {
          "base_uri": "https://localhost:8080/",
          "height": 497
        },
        "id": "ACWgdcIWeU01",
        "outputId": "6cd53d02-335f-4617-f75a-1c625d0c3eb9"
      },
      "outputs": [
        {
          "output_type": "stream",
          "name": "stdout",
          "text": [
            "Learning rate = 0.001, num of epochs = 60\n",
            "Epoch [5/60], Loss: 3.5557\n",
            "Epoch [10/60], Loss: 1.5880\n",
            "Epoch [15/60], Loss: 0.7714\n",
            "Epoch [20/60], Loss: 0.4324\n",
            "Epoch [25/60], Loss: 0.2917\n",
            "Epoch [30/60], Loss: 0.2333\n",
            "Epoch [35/60], Loss: 0.2090\n",
            "Epoch [40/60], Loss: 0.1988\n",
            "Epoch [45/60], Loss: 0.1946\n",
            "Epoch [50/60], Loss: 0.1928\n",
            "Epoch [55/60], Loss: 0.1920\n",
            "Epoch [60/60], Loss: 0.1916\n"
          ]
        },
        {
          "output_type": "display_data",
          "data": {
            "text/plain": [
              "<Figure size 432x288 with 1 Axes>"
            ],
            "image/png": "[encoded data removed]"
          },
          "metadata": {
            "needs_background": "light"
          }
        }
      ],
      "source": [
        "main()"
      ]
    },
    {
      "cell_type": "markdown",
      "metadata": {
        "id": "6wWicEaIfYMJ"
      },
      "source": [
        "Now let's investigate into how learning rate affects the training process.\n",
        "\n",
        "===> Question 5: Experiments with different learning rates and num_epochs.   \n",
        "When will the training diverges? What's your suggested value for the learning rate?   \n",
        "Justify your answer by running more experiments (leaving the results in the notebook). (5')     \n",
        "===> Answer: According to my experiments, when the learning rate is greater than 0.03, the training will diverge. When learning rate is small, adding epoch will reduce the loss. To achieve both convergence and efficiency, my suggestion for the learning rate is 0.001"
      ]
    },
    {
      "cell_type": "code",
      "execution_count": 47,
      "metadata": {
        "colab": {
          "base_uri": "https://localhost:8080/",
          "height": 1000
        },
        "id": "d31POxIKeaQV",
        "outputId": "c4debb20-2d2b-4d1b-a183-16efe8847127"
      },
      "outputs": [
        {
          "output_type": "stream",
          "name": "stdout",
          "text": [
            "Learning rate = 1, num of epochs = 60\n",
            "Epoch [5/60], Loss: 126793679460368384.0000\n",
            "Epoch [10/60], Loss: 2012671675693163928885542619833171968.0000\n",
            "Epoch [15/60], Loss: inf\n",
            "Epoch [20/60], Loss: inf\n",
            "Epoch [25/60], Loss: nan\n",
            "Epoch [30/60], Loss: nan\n",
            "Epoch [35/60], Loss: nan\n",
            "Epoch [40/60], Loss: nan\n",
            "Epoch [45/60], Loss: nan\n",
            "Epoch [50/60], Loss: nan\n",
            "Epoch [55/60], Loss: nan\n",
            "Epoch [60/60], Loss: nan\n"
          ]
        },
        {
          "output_type": "display_data",
          "data": {
            "text/plain": [
              "<Figure size 432x288 with 1 Axes>"
            ],
            "image/png": "[encoded data removed]"
          },
          "metadata": {
            "needs_background": "light"
          }
        },
        {
          "output_type": "stream",
          "name": "stdout",
          "text": [
            "Learning rate = 0.5, num of epochs = 60\n",
            "Epoch [5/60], Loss: 275046668959744.0000\n",
            "Epoch [10/60], Loss: 3777981740112002942543847227392.0000\n",
            "Epoch [15/60], Loss: inf\n",
            "Epoch [20/60], Loss: inf\n",
            "Epoch [25/60], Loss: inf\n",
            "Epoch [30/60], Loss: nan\n",
            "Epoch [35/60], Loss: nan\n",
            "Epoch [40/60], Loss: nan\n",
            "Epoch [45/60], Loss: nan\n",
            "Epoch [50/60], Loss: nan\n",
            "Epoch [55/60], Loss: nan\n",
            "Epoch [60/60], Loss: nan\n"
          ]
        },
        {
          "output_type": "display_data",
          "data": {
            "text/plain": [
              "<Figure size 432x288 with 1 Axes>"
            ],
            "image/png": "[encoded data removed]"
          },
          "metadata": {
            "needs_background": "light"
          }
        },
        {
          "output_type": "stream",
          "name": "stdout",
          "text": [
            "Learning rate = 0.25, num of epochs = 60\n",
            "Epoch [5/60], Loss: 1015904665600.0000\n",
            "Epoch [10/60], Loss: 10651674607444491218452480.0000\n",
            "Epoch [15/60], Loss: inf\n",
            "Epoch [20/60], Loss: inf\n",
            "Epoch [25/60], Loss: inf\n",
            "Epoch [30/60], Loss: inf\n",
            "Epoch [35/60], Loss: nan\n",
            "Epoch [40/60], Loss: nan\n",
            "Epoch [45/60], Loss: nan\n",
            "Epoch [50/60], Loss: nan\n",
            "Epoch [55/60], Loss: nan\n",
            "Epoch [60/60], Loss: nan\n"
          ]
        },
        {
          "output_type": "display_data",
          "data": {
            "text/plain": [
              "<Figure size 432x288 with 1 Axes>"
            ],
            "image/png": "[encoded data removed]"
          },
          "metadata": {
            "needs_background": "light"
          }
        },
        {
          "output_type": "stream",
          "name": "stdout",
          "text": [
            "Learning rate = 0.125, num of epochs = 60\n",
            "Epoch [5/60], Loss: 156466640.0000\n",
            "Epoch [10/60], Loss: 960423269423382528.0000\n",
            "Epoch [15/60], Loss: 5895267139473892941183844352.0000\n",
            "Epoch [20/60], Loss: inf\n",
            "Epoch [25/60], Loss: inf\n",
            "Epoch [30/60], Loss: inf\n",
            "Epoch [35/60], Loss: inf\n",
            "Epoch [40/60], Loss: inf\n",
            "Epoch [45/60], Loss: nan\n",
            "Epoch [50/60], Loss: nan\n",
            "Epoch [55/60], Loss: nan\n",
            "Epoch [60/60], Loss: nan\n"
          ]
        },
        {
          "output_type": "display_data",
          "data": {
            "text/plain": [
              "<Figure size 432x288 with 1 Axes>"
            ],
            "image/png": "[encoded data removed]"
          },
          "metadata": {
            "needs_background": "light"
          }
        },
        {
          "output_type": "stream",
          "name": "stdout",
          "text": [
            "Learning rate = 0.0625, num of epochs = 60\n",
            "Epoch [5/60], Loss: 6774575.5000\n",
            "Epoch [10/60], Loss: 13392000581632.0000\n",
            "Epoch [15/60], Loss: 26473354878334795776.0000\n",
            "Epoch [20/60], Loss: 52332601280374754714320896.0000\n",
            "Epoch [25/60], Loss: 103451186719531853275363452911616.0000\n",
            "Epoch [30/60], Loss: inf\n",
            "Epoch [35/60], Loss: inf\n",
            "Epoch [40/60], Loss: inf\n",
            "Epoch [45/60], Loss: inf\n",
            "Epoch [50/60], Loss: inf\n",
            "Epoch [55/60], Loss: inf\n",
            "Epoch [60/60], Loss: inf\n"
          ]
        },
        {
          "output_type": "display_data",
          "data": {
            "text/plain": [
              "<Figure size 432x288 with 1 Axes>"
            ],
            "image/png": "[encoded data removed]"
          },
          "metadata": {
            "needs_background": "light"
          }
        },
        {
          "output_type": "stream",
          "name": "stdout",
          "text": [
            "Learning rate = 0.03125, num of epochs = 60\n",
            "Epoch [5/60], Loss: 1496.1152\n",
            "Epoch [10/60], Loss: 199174.9531\n",
            "Epoch [15/60], Loss: 26518598.0000\n",
            "Epoch [20/60], Loss: 3530746624.0000\n",
            "Epoch [25/60], Loss: 470091661312.0000\n",
            "Epoch [30/60], Loss: 62589027483648.0000\n",
            "Epoch [35/60], Loss: 8333242650329088.0000\n",
            "Epoch [40/60], Loss: 1109506188472483840.0000\n",
            "Epoch [45/60], Loss: 147722078796170395648.0000\n",
            "Epoch [50/60], Loss: 19668052738658019573760.0000\n",
            "Epoch [55/60], Loss: 2618648483696852942716928.0000\n",
            "Epoch [60/60], Loss: 348652944619564412251930624.0000\n"
          ]
        },
        {
          "output_type": "display_data",
          "data": {
            "text/plain": [
              "<Figure size 432x288 with 1 Axes>"
            ],
            "image/png": "[encoded data removed]"
          },
          "metadata": {
            "needs_background": "light"
          }
        },
        {
          "output_type": "stream",
          "name": "stdout",
          "text": [
            "Learning rate = 0.015625, num of epochs = 60\n",
            "Epoch [5/60], Loss: 0.1664\n",
            "Epoch [10/60], Loss: 0.1647\n",
            "Epoch [15/60], Loss: 0.1645\n",
            "Epoch [20/60], Loss: 0.1643\n",
            "Epoch [25/60], Loss: 0.1641\n",
            "Epoch [30/60], Loss: 0.1639\n",
            "Epoch [35/60], Loss: 0.1637\n",
            "Epoch [40/60], Loss: 0.1635\n",
            "Epoch [45/60], Loss: 0.1633\n",
            "Epoch [50/60], Loss: 0.1632\n",
            "Epoch [55/60], Loss: 0.1630\n",
            "Epoch [60/60], Loss: 0.1629\n"
          ]
        },
        {
          "output_type": "display_data",
          "data": {
            "text/plain": [
              "<Figure size 432x288 with 1 Axes>"
            ],
            "image/png": "[encoded data removed]"
          },
          "metadata": {
            "needs_background": "light"
          }
        },
        {
          "output_type": "stream",
          "name": "stdout",
          "text": [
            "Learning rate = 0.0078125, num of epochs = 60\n",
            "Epoch [5/60], Loss: 0.2033\n",
            "Epoch [10/60], Loss: 0.2025\n",
            "Epoch [15/60], Loss: 0.2016\n",
            "Epoch [20/60], Loss: 0.2008\n",
            "Epoch [25/60], Loss: 0.2000\n",
            "Epoch [30/60], Loss: 0.1992\n",
            "Epoch [35/60], Loss: 0.1984\n",
            "Epoch [40/60], Loss: 0.1976\n",
            "Epoch [45/60], Loss: 0.1969\n",
            "Epoch [50/60], Loss: 0.1961\n",
            "Epoch [55/60], Loss: 0.1954\n",
            "Epoch [60/60], Loss: 0.1947\n"
          ]
        },
        {
          "output_type": "display_data",
          "data": {
            "text/plain": [
              "<Figure size 432x288 with 1 Axes>"
            ],
            "image/png": "[encoded data removed]"
          },
          "metadata": {
            "needs_background": "light"
          }
        },
        {
          "output_type": "stream",
          "name": "stdout",
          "text": [
            "Learning rate = 0.00390625, num of epochs = 60\n",
            "Epoch [5/60], Loss: 0.5368\n",
            "Epoch [10/60], Loss: 0.2571\n",
            "Epoch [15/60], Loss: 0.2510\n",
            "Epoch [20/60], Loss: 0.2500\n",
            "Epoch [25/60], Loss: 0.2491\n",
            "Epoch [30/60], Loss: 0.2482\n",
            "Epoch [35/60], Loss: 0.2474\n",
            "Epoch [40/60], Loss: 0.2465\n",
            "Epoch [45/60], Loss: 0.2456\n",
            "Epoch [50/60], Loss: 0.2448\n",
            "Epoch [55/60], Loss: 0.2439\n",
            "Epoch [60/60], Loss: 0.2431\n"
          ]
        },
        {
          "output_type": "display_data",
          "data": {
            "text/plain": [
              "<Figure size 432x288 with 1 Axes>"
            ],
            "image/png": "[encoded data removed]"
          },
          "metadata": {
            "needs_background": "light"
          }
        },
        {
          "output_type": "stream",
          "name": "stdout",
          "text": [
            "Learning rate = 0.001953125, num of epochs = 60\n",
            "Epoch [5/60], Loss: 1.0359\n",
            "Epoch [10/60], Loss: 0.3917\n",
            "Epoch [15/60], Loss: 0.2844\n",
            "Epoch [20/60], Loss: 0.2662\n",
            "Epoch [25/60], Loss: 0.2628\n",
            "Epoch [30/60], Loss: 0.2618\n",
            "Epoch [35/60], Loss: 0.2612\n",
            "Epoch [40/60], Loss: 0.2607\n",
            "Epoch [45/60], Loss: 0.2601\n",
            "Epoch [50/60], Loss: 0.2596\n",
            "Epoch [55/60], Loss: 0.2592\n",
            "Epoch [60/60], Loss: 0.2587\n"
          ]
        },
        {
          "output_type": "display_data",
          "data": {
            "text/plain": [
              "<Figure size 432x288 with 1 Axes>"
            ],
            "image/png": "[encoded data removed]"
          },
          "metadata": {
            "needs_background": "light"
          }
        },
        {
          "output_type": "stream",
          "name": "stdout",
          "text": [
            "Learning rate = 0.0009765625, num of epochs = 60\n",
            "Epoch [5/60], Loss: 2.9049\n",
            "Epoch [10/60], Loss: 1.3447\n",
            "Epoch [15/60], Loss: 0.6830\n",
            "Epoch [20/60], Loss: 0.4024\n",
            "Epoch [25/60], Loss: 0.2834\n",
            "Epoch [30/60], Loss: 0.2328\n",
            "Epoch [35/60], Loss: 0.2114\n",
            "Epoch [40/60], Loss: 0.2022\n",
            "Epoch [45/60], Loss: 0.1983\n",
            "Epoch [50/60], Loss: 0.1966\n",
            "Epoch [55/60], Loss: 0.1958\n",
            "Epoch [60/60], Loss: 0.1954\n"
          ]
        },
        {
          "output_type": "display_data",
          "data": {
            "text/plain": [
              "<Figure size 432x288 with 1 Axes>"
            ],
            "image/png": "[encoded data removed]"
          },
          "metadata": {
            "needs_background": "light"
          }
        },
        {
          "output_type": "stream",
          "name": "stdout",
          "text": [
            "Learning rate = 0.00048828125, num of epochs = 60\n",
            "Epoch [5/60], Loss: 44.9853\n",
            "Epoch [10/60], Loss: 29.6687\n",
            "Epoch [15/60], Loss: 19.6026\n",
            "Epoch [20/60], Loss: 12.9871\n",
            "Epoch [25/60], Loss: 8.6394\n",
            "Epoch [30/60], Loss: 5.7820\n",
            "Epoch [35/60], Loss: 3.9041\n",
            "Epoch [40/60], Loss: 2.6698\n",
            "Epoch [45/60], Loss: 1.8586\n",
            "Epoch [50/60], Loss: 1.3254\n",
            "Epoch [55/60], Loss: 0.9750\n",
            "Epoch [60/60], Loss: 0.7446\n"
          ]
        },
        {
          "output_type": "display_data",
          "data": {
            "text/plain": [
              "<Figure size 432x288 with 1 Axes>"
            ],
            "image/png": "[encoded data removed]"
          },
          "metadata": {
            "needs_background": "light"
          }
        },
        {
          "output_type": "stream",
          "name": "stdout",
          "text": [
            "Learning rate = 0.000244140625, num of epochs = 60\n",
            "Epoch [5/60], Loss: 3.9711\n",
            "Epoch [10/60], Loss: 3.3160\n",
            "Epoch [15/60], Loss: 2.7836\n",
            "Epoch [20/60], Loss: 2.3510\n",
            "Epoch [25/60], Loss: 1.9996\n",
            "Epoch [30/60], Loss: 1.7140\n",
            "Epoch [35/60], Loss: 1.4819\n",
            "Epoch [40/60], Loss: 1.2933\n",
            "Epoch [45/60], Loss: 1.1400\n",
            "Epoch [50/60], Loss: 1.0155\n",
            "Epoch [55/60], Loss: 0.9142\n",
            "Epoch [60/60], Loss: 0.8320\n"
          ]
        },
        {
          "output_type": "display_data",
          "data": {
            "text/plain": [
              "<Figure size 432x288 with 1 Axes>"
            ],
            "image/png": "[encoded data removed]"
          },
          "metadata": {
            "needs_background": "light"
          }
        },
        {
          "output_type": "stream",
          "name": "stdout",
          "text": [
            "Learning rate = 0.0001220703125, num of epochs = 60\n",
            "Epoch [5/60], Loss: 3.5983\n",
            "Epoch [10/60], Loss: 3.2620\n",
            "Epoch [15/60], Loss: 2.9588\n",
            "Epoch [20/60], Loss: 2.6853\n",
            "Epoch [25/60], Loss: 2.4386\n",
            "Epoch [30/60], Loss: 2.2161\n",
            "Epoch [35/60], Loss: 2.0155\n",
            "Epoch [40/60], Loss: 1.8346\n",
            "Epoch [45/60], Loss: 1.6714\n",
            "Epoch [50/60], Loss: 1.5243\n",
            "Epoch [55/60], Loss: 1.3915\n",
            "Epoch [60/60], Loss: 1.2719\n"
          ]
        },
        {
          "output_type": "display_data",
          "data": {
            "text/plain": [
              "<Figure size 432x288 with 1 Axes>"
            ],
            "image/png": "[encoded data removed]"
          },
          "metadata": {
            "needs_background": "light"
          }
        },
        {
          "output_type": "stream",
          "name": "stdout",
          "text": [
            "Learning rate = 6.103515625e-05, num of epochs = 60\n",
            "Epoch [5/60], Loss: 0.2221\n",
            "Epoch [10/60], Loss: 0.2220\n",
            "Epoch [15/60], Loss: 0.2219\n",
            "Epoch [20/60], Loss: 0.2218\n",
            "Epoch [25/60], Loss: 0.2217\n",
            "Epoch [30/60], Loss: 0.2216\n",
            "Epoch [35/60], Loss: 0.2215\n",
            "Epoch [40/60], Loss: 0.2214\n",
            "Epoch [45/60], Loss: 0.2213\n",
            "Epoch [50/60], Loss: 0.2212\n",
            "Epoch [55/60], Loss: 0.2211\n",
            "Epoch [60/60], Loss: 0.2211\n"
          ]
        },
        {
          "output_type": "display_data",
          "data": {
            "text/plain": [
              "<Figure size 432x288 with 1 Axes>"
            ],
            "image/png": "[encoded data removed]"
          },
          "metadata": {
            "needs_background": "light"
          }
        },
        {
          "output_type": "stream",
          "name": "stdout",
          "text": [
            "Learning rate = 3.0517578125e-05, num of epochs = 60\n",
            "Epoch [5/60], Loss: 55.1768\n",
            "Epoch [10/60], Loss: 53.7795\n",
            "Epoch [15/60], Loss: 52.4177\n",
            "Epoch [20/60], Loss: 51.0905\n",
            "Epoch [25/60], Loss: 49.7969\n",
            "Epoch [30/60], Loss: 48.5363\n",
            "Epoch [35/60], Loss: 47.3076\n",
            "Epoch [40/60], Loss: 46.1102\n",
            "Epoch [45/60], Loss: 44.9431\n",
            "Epoch [50/60], Loss: 43.8057\n",
            "Epoch [55/60], Loss: 42.6972\n",
            "Epoch [60/60], Loss: 41.6169\n"
          ]
        },
        {
          "output_type": "display_data",
          "data": {
            "text/plain": [
              "<Figure size 432x288 with 1 Axes>"
            ],
            "image/png": "[encoded data removed]"
          },
          "metadata": {
            "needs_background": "light"
          }
        },
        {
          "output_type": "stream",
          "name": "stdout",
          "text": [
            "Learning rate = 1.52587890625e-05, num of epochs = 60\n",
            "Epoch [5/60], Loss: 52.0251\n",
            "Epoch [10/60], Loss: 51.3638\n",
            "Epoch [15/60], Loss: 50.7110\n",
            "Epoch [20/60], Loss: 50.0664\n",
            "Epoch [25/60], Loss: 49.4302\n",
            "Epoch [30/60], Loss: 48.8020\n",
            "Epoch [35/60], Loss: 48.1819\n",
            "Epoch [40/60], Loss: 47.5697\n",
            "Epoch [45/60], Loss: 46.9653\n",
            "Epoch [50/60], Loss: 46.3686\n",
            "Epoch [55/60], Loss: 45.7796\n",
            "Epoch [60/60], Loss: 45.1981\n"
          ]
        },
        {
          "output_type": "display_data",
          "data": {
            "text/plain": [
              "<Figure size 432x288 with 1 Axes>"
            ],
            "image/png": "[encoded data removed]"
          },
          "metadata": {
            "needs_background": "light"
          }
        },
        {
          "output_type": "stream",
          "name": "stdout",
          "text": [
            "Learning rate = 7.62939453125e-06, num of epochs = 60\n",
            "Epoch [5/60], Loss: 22.0853\n",
            "Epoch [10/60], Loss: 21.9454\n",
            "Epoch [15/60], Loss: 21.8063\n",
            "Epoch [20/60], Loss: 21.6682\n",
            "Epoch [25/60], Loss: 21.5309\n",
            "Epoch [30/60], Loss: 21.3945\n",
            "Epoch [35/60], Loss: 21.2590\n",
            "Epoch [40/60], Loss: 21.1243\n",
            "Epoch [45/60], Loss: 20.9905\n",
            "Epoch [50/60], Loss: 20.8576\n",
            "Epoch [55/60], Loss: 20.7255\n",
            "Epoch [60/60], Loss: 20.5942\n"
          ]
        },
        {
          "output_type": "display_data",
          "data": {
            "text/plain": [
              "<Figure size 432x288 with 1 Axes>"
            ],
            "image/png": "[encoded data removed]"
          },
          "metadata": {
            "needs_background": "light"
          }
        },
        {
          "output_type": "stream",
          "name": "stdout",
          "text": [
            "Learning rate = 3.814697265625e-06, num of epochs = 60\n",
            "Epoch [5/60], Loss: 2.5635\n",
            "Epoch [10/60], Loss: 2.5558\n",
            "Epoch [15/60], Loss: 2.5482\n",
            "Epoch [20/60], Loss: 2.5405\n",
            "Epoch [25/60], Loss: 2.5329\n",
            "Epoch [30/60], Loss: 2.5253\n",
            "Epoch [35/60], Loss: 2.5177\n",
            "Epoch [40/60], Loss: 2.5101\n",
            "Epoch [45/60], Loss: 2.5026\n",
            "Epoch [50/60], Loss: 2.4951\n",
            "Epoch [55/60], Loss: 2.4876\n",
            "Epoch [60/60], Loss: 2.4802\n"
          ]
        },
        {
          "output_type": "display_data",
          "data": {
            "text/plain": [
              "<Figure size 432x288 with 1 Axes>"
            ],
            "image/png": "[encoded data removed]"
          },
          "metadata": {
            "needs_background": "light"
          }
        },
        {
          "output_type": "stream",
          "name": "stdout",
          "text": [
            "Learning rate = 1.9073486328125e-06, num of epochs = 60\n",
            "Epoch [5/60], Loss: 0.7321\n",
            "Epoch [10/60], Loss: 0.7312\n",
            "Epoch [15/60], Loss: 0.7303\n",
            "Epoch [20/60], Loss: 0.7294\n",
            "Epoch [25/60], Loss: 0.7285\n",
            "Epoch [30/60], Loss: 0.7276\n",
            "Epoch [35/60], Loss: 0.7267\n",
            "Epoch [40/60], Loss: 0.7258\n",
            "Epoch [45/60], Loss: 0.7249\n",
            "Epoch [50/60], Loss: 0.7240\n",
            "Epoch [55/60], Loss: 0.7231\n",
            "Epoch [60/60], Loss: 0.7222\n"
          ]
        },
        {
          "output_type": "display_data",
          "data": {
            "text/plain": [
              "<Figure size 432x288 with 1 Axes>"
            ],
            "image/png": "[encoded data removed]"
          },
          "metadata": {
            "needs_background": "light"
          }
        },
        {
          "output_type": "stream",
          "name": "stdout",
          "text": [
            "Learning rate = 0.0001, num of epochs = 600\n",
            "Epoch [5/600], Loss: 1.2299\n",
            "Epoch [10/600], Loss: 1.1627\n",
            "Epoch [15/600], Loss: 1.1009\n",
            "Epoch [20/600], Loss: 1.0441\n",
            "Epoch [25/600], Loss: 0.9919\n",
            "Epoch [30/600], Loss: 0.9439\n",
            "Epoch [35/600], Loss: 0.8998\n",
            "Epoch [40/600], Loss: 0.8593\n",
            "Epoch [45/600], Loss: 0.8221\n",
            "Epoch [50/600], Loss: 0.7878\n",
            "Epoch [55/600], Loss: 0.7564\n",
            "Epoch [60/600], Loss: 0.7275\n",
            "Epoch [65/600], Loss: 0.7009\n",
            "Epoch [70/600], Loss: 0.6765\n",
            "Epoch [75/600], Loss: 0.6541\n",
            "Epoch [80/600], Loss: 0.6334\n",
            "Epoch [85/600], Loss: 0.6145\n",
            "Epoch [90/600], Loss: 0.5970\n",
            "Epoch [95/600], Loss: 0.5810\n",
            "Epoch [100/600], Loss: 0.5663\n",
            "Epoch [105/600], Loss: 0.5527\n",
            "Epoch [110/600], Loss: 0.5403\n",
            "Epoch [115/600], Loss: 0.5288\n",
            "Epoch [120/600], Loss: 0.5183\n",
            "Epoch [125/600], Loss: 0.5087\n",
            "Epoch [130/600], Loss: 0.4998\n",
            "Epoch [135/600], Loss: 0.4916\n",
            "Epoch [140/600], Loss: 0.4841\n",
            "Epoch [145/600], Loss: 0.4772\n",
            "Epoch [150/600], Loss: 0.4708\n",
            "Epoch [155/600], Loss: 0.4649\n",
            "Epoch [160/600], Loss: 0.4596\n",
            "Epoch [165/600], Loss: 0.4546\n",
            "Epoch [170/600], Loss: 0.4501\n",
            "Epoch [175/600], Loss: 0.4459\n",
            "Epoch [180/600], Loss: 0.4420\n",
            "Epoch [185/600], Loss: 0.4385\n",
            "Epoch [190/600], Loss: 0.4352\n",
            "Epoch [195/600], Loss: 0.4322\n",
            "Epoch [200/600], Loss: 0.4295\n",
            "Epoch [205/600], Loss: 0.4269\n",
            "Epoch [210/600], Loss: 0.4246\n",
            "Epoch [215/600], Loss: 0.4224\n",
            "Epoch [220/600], Loss: 0.4204\n",
            "Epoch [225/600], Loss: 0.4186\n",
            "Epoch [230/600], Loss: 0.4169\n",
            "Epoch [235/600], Loss: 0.4153\n",
            "Epoch [240/600], Loss: 0.4139\n",
            "Epoch [245/600], Loss: 0.4126\n",
            "Epoch [250/600], Loss: 0.4114\n",
            "Epoch [255/600], Loss: 0.4102\n",
            "Epoch [260/600], Loss: 0.4092\n",
            "Epoch [265/600], Loss: 0.4082\n",
            "Epoch [270/600], Loss: 0.4073\n",
            "Epoch [275/600], Loss: 0.4065\n",
            "Epoch [280/600], Loss: 0.4058\n",
            "Epoch [285/600], Loss: 0.4051\n",
            "Epoch [290/600], Loss: 0.4044\n",
            "Epoch [295/600], Loss: 0.4038\n",
            "Epoch [300/600], Loss: 0.4032\n",
            "Epoch [305/600], Loss: 0.4027\n",
            "Epoch [310/600], Loss: 0.4022\n",
            "Epoch [315/600], Loss: 0.4018\n",
            "Epoch [320/600], Loss: 0.4014\n",
            "Epoch [325/600], Loss: 0.4010\n",
            "Epoch [330/600], Loss: 0.4006\n",
            "Epoch [335/600], Loss: 0.4003\n",
            "Epoch [340/600], Loss: 0.4000\n",
            "Epoch [345/600], Loss: 0.3997\n",
            "Epoch [350/600], Loss: 0.3994\n",
            "Epoch [355/600], Loss: 0.3992\n",
            "Epoch [360/600], Loss: 0.3989\n",
            "Epoch [365/600], Loss: 0.3987\n",
            "Epoch [370/600], Loss: 0.3985\n",
            "Epoch [375/600], Loss: 0.3983\n",
            "Epoch [380/600], Loss: 0.3981\n",
            "Epoch [385/600], Loss: 0.3979\n",
            "Epoch [390/600], Loss: 0.3977\n",
            "Epoch [395/600], Loss: 0.3976\n",
            "Epoch [400/600], Loss: 0.3974\n",
            "Epoch [405/600], Loss: 0.3973\n",
            "Epoch [410/600], Loss: 0.3971\n",
            "Epoch [415/600], Loss: 0.3970\n",
            "Epoch [420/600], Loss: 0.3969\n",
            "Epoch [425/600], Loss: 0.3968\n",
            "Epoch [430/600], Loss: 0.3967\n",
            "Epoch [435/600], Loss: 0.3965\n",
            "Epoch [440/600], Loss: 0.3964\n",
            "Epoch [445/600], Loss: 0.3963\n",
            "Epoch [450/600], Loss: 0.3962\n",
            "Epoch [455/600], Loss: 0.3961\n",
            "Epoch [460/600], Loss: 0.3960\n",
            "Epoch [465/600], Loss: 0.3960\n",
            "Epoch [470/600], Loss: 0.3959\n",
            "Epoch [475/600], Loss: 0.3958\n",
            "Epoch [480/600], Loss: 0.3957\n",
            "Epoch [485/600], Loss: 0.3956\n",
            "Epoch [490/600], Loss: 0.3955\n",
            "Epoch [495/600], Loss: 0.3955\n",
            "Epoch [500/600], Loss: 0.3954\n",
            "Epoch [505/600], Loss: 0.3953\n",
            "Epoch [510/600], Loss: 0.3952\n",
            "Epoch [515/600], Loss: 0.3952\n",
            "Epoch [520/600], Loss: 0.3951\n",
            "Epoch [525/600], Loss: 0.3950\n",
            "Epoch [530/600], Loss: 0.3949\n",
            "Epoch [535/600], Loss: 0.3949\n",
            "Epoch [540/600], Loss: 0.3948\n",
            "Epoch [545/600], Loss: 0.3947\n",
            "Epoch [550/600], Loss: 0.3947\n",
            "Epoch [555/600], Loss: 0.3946\n",
            "Epoch [560/600], Loss: 0.3945\n",
            "Epoch [565/600], Loss: 0.3945\n",
            "Epoch [570/600], Loss: 0.3944\n",
            "Epoch [575/600], Loss: 0.3943\n",
            "Epoch [580/600], Loss: 0.3943\n",
            "Epoch [585/600], Loss: 0.3942\n",
            "Epoch [590/600], Loss: 0.3942\n",
            "Epoch [595/600], Loss: 0.3941\n",
            "Epoch [600/600], Loss: 0.3940\n"
          ]
        },
        {
          "output_type": "display_data",
          "data": {
            "text/plain": [
              "<Figure size 432x288 with 1 Axes>"
            ],
            "image/png": "[encoded data removed]"
          },
          "metadata": {
            "needs_background": "light"
          }
        }
      ],
      "source": [
        "lr = 1\n",
        "for i in range(20):\n",
        "  main(learning_rate = lr, num_epochs = 60)\n",
        "  lr = lr / 2\n",
        "\n",
        "lr = 0.0001\n",
        "main(learning_rate = lr, num_epochs = 600)"
      ]
    },
    {
      "cell_type": "code",
      "execution_count": 45,
      "metadata": {
        "id": "rDxFC0ZzhM2_"
      },
      "outputs": [],
      "source": []
    }
  ],
  "metadata": {
    "accelerator": "GPU",
    "colab": {
      "collapsed_sections": [],
      "name": "““CS5242_HW1.ipynb”的副本”的副本",
      "provenance": []
    },
    "gpuClass": "standard",
    "kernelspec": {
      "display_name": "Python 3 (ipykernel)",
      "language": "python",
      "name": "python3"
    },
    "language_info": {
      "codemirror_mode": {
        "name": "ipython",
        "version": 3
      },
      "file_extension": ".py",
      "mimetype": "text/x-python",
      "name": "python",
      "nbconvert_exporter": "python",
      "pygments_lexer": "ipython3",
      "version": "3.9.5"
    }
  },
  "nbformat": 4,
  "nbformat_minor": 0
}